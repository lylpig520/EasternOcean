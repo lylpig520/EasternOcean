{
  "nbformat": 4,
  "nbformat_minor": 0,
  "metadata": {
    "colab": {
      "name": "[Submit_version] - NN-miniexercise.ipynb",
      "provenance": [],
      "collapsed_sections": []
    },
    "kernelspec": {
      "name": "python3",
      "display_name": "Python 3"
    },
    "widgets": {
      "application/vnd.jupyter.widget-state+json": {
        "c202e8583a6e4a18946d026ff5c3fc6c": {
          "model_module": "@jupyter-widgets/controls",
          "model_name": "HBoxModel",
          "state": {
            "_view_name": "HBoxView",
            "_dom_classes": [],
            "_model_name": "HBoxModel",
            "_view_module": "@jupyter-widgets/controls",
            "_model_module_version": "1.5.0",
            "_view_count": null,
            "_view_module_version": "1.5.0",
            "box_style": "",
            "layout": "IPY_MODEL_84c303007b084601bbf96fdd6a6cd5d3",
            "_model_module": "@jupyter-widgets/controls",
            "children": [
              "IPY_MODEL_6e8daa2d965049bbb7ed3a93c3364d9d",
              "IPY_MODEL_cbaf24b4b7f145d3bc38f1abfa7175ed"
            ]
          }
        },
        "84c303007b084601bbf96fdd6a6cd5d3": {
          "model_module": "@jupyter-widgets/base",
          "model_name": "LayoutModel",
          "state": {
            "_view_name": "LayoutView",
            "grid_template_rows": null,
            "right": null,
            "justify_content": null,
            "_view_module": "@jupyter-widgets/base",
            "overflow": null,
            "_model_module_version": "1.2.0",
            "_view_count": null,
            "flex_flow": null,
            "width": null,
            "min_width": null,
            "border": null,
            "align_items": null,
            "bottom": null,
            "_model_module": "@jupyter-widgets/base",
            "top": null,
            "grid_column": null,
            "overflow_y": null,
            "overflow_x": null,
            "grid_auto_flow": null,
            "grid_area": null,
            "grid_template_columns": null,
            "flex": null,
            "_model_name": "LayoutModel",
            "justify_items": null,
            "grid_row": null,
            "max_height": null,
            "align_content": null,
            "visibility": null,
            "align_self": null,
            "height": null,
            "min_height": null,
            "padding": null,
            "grid_auto_rows": null,
            "grid_gap": null,
            "max_width": null,
            "order": null,
            "_view_module_version": "1.2.0",
            "grid_template_areas": null,
            "object_position": null,
            "object_fit": null,
            "grid_auto_columns": null,
            "margin": null,
            "display": null,
            "left": null
          }
        },
        "6e8daa2d965049bbb7ed3a93c3364d9d": {
          "model_module": "@jupyter-widgets/controls",
          "model_name": "FloatProgressModel",
          "state": {
            "_view_name": "ProgressView",
            "style": "IPY_MODEL_f57c74d40d87477496726ffa675f0e29",
            "_dom_classes": [],
            "description": "100%",
            "_model_name": "FloatProgressModel",
            "bar_style": "success",
            "max": 50000,
            "_view_module": "@jupyter-widgets/controls",
            "_model_module_version": "1.5.0",
            "value": 50000,
            "_view_count": null,
            "_view_module_version": "1.5.0",
            "orientation": "horizontal",
            "min": 0,
            "description_tooltip": null,
            "_model_module": "@jupyter-widgets/controls",
            "layout": "IPY_MODEL_c0375ed0a0cc44d796485613bf9cf0fb"
          }
        },
        "cbaf24b4b7f145d3bc38f1abfa7175ed": {
          "model_module": "@jupyter-widgets/controls",
          "model_name": "HTMLModel",
          "state": {
            "_view_name": "HTMLView",
            "style": "IPY_MODEL_3e59c5cfc72045948db40adc102bb5ae",
            "_dom_classes": [],
            "description": "",
            "_model_name": "HTMLModel",
            "placeholder": "​",
            "_view_module": "@jupyter-widgets/controls",
            "_model_module_version": "1.5.0",
            "value": " 50000/50000 [00:03&lt;00:00, 12704.59it/s]",
            "_view_count": null,
            "_view_module_version": "1.5.0",
            "description_tooltip": null,
            "_model_module": "@jupyter-widgets/controls",
            "layout": "IPY_MODEL_181ce32c552c4395bceb90ee6a8348b1"
          }
        },
        "f57c74d40d87477496726ffa675f0e29": {
          "model_module": "@jupyter-widgets/controls",
          "model_name": "ProgressStyleModel",
          "state": {
            "_view_name": "StyleView",
            "_model_name": "ProgressStyleModel",
            "description_width": "initial",
            "_view_module": "@jupyter-widgets/base",
            "_model_module_version": "1.5.0",
            "_view_count": null,
            "_view_module_version": "1.2.0",
            "bar_color": null,
            "_model_module": "@jupyter-widgets/controls"
          }
        },
        "c0375ed0a0cc44d796485613bf9cf0fb": {
          "model_module": "@jupyter-widgets/base",
          "model_name": "LayoutModel",
          "state": {
            "_view_name": "LayoutView",
            "grid_template_rows": null,
            "right": null,
            "justify_content": null,
            "_view_module": "@jupyter-widgets/base",
            "overflow": null,
            "_model_module_version": "1.2.0",
            "_view_count": null,
            "flex_flow": null,
            "width": null,
            "min_width": null,
            "border": null,
            "align_items": null,
            "bottom": null,
            "_model_module": "@jupyter-widgets/base",
            "top": null,
            "grid_column": null,
            "overflow_y": null,
            "overflow_x": null,
            "grid_auto_flow": null,
            "grid_area": null,
            "grid_template_columns": null,
            "flex": null,
            "_model_name": "LayoutModel",
            "justify_items": null,
            "grid_row": null,
            "max_height": null,
            "align_content": null,
            "visibility": null,
            "align_self": null,
            "height": null,
            "min_height": null,
            "padding": null,
            "grid_auto_rows": null,
            "grid_gap": null,
            "max_width": null,
            "order": null,
            "_view_module_version": "1.2.0",
            "grid_template_areas": null,
            "object_position": null,
            "object_fit": null,
            "grid_auto_columns": null,
            "margin": null,
            "display": null,
            "left": null
          }
        },
        "3e59c5cfc72045948db40adc102bb5ae": {
          "model_module": "@jupyter-widgets/controls",
          "model_name": "DescriptionStyleModel",
          "state": {
            "_view_name": "StyleView",
            "_model_name": "DescriptionStyleModel",
            "description_width": "",
            "_view_module": "@jupyter-widgets/base",
            "_model_module_version": "1.5.0",
            "_view_count": null,
            "_view_module_version": "1.2.0",
            "_model_module": "@jupyter-widgets/controls"
          }
        },
        "181ce32c552c4395bceb90ee6a8348b1": {
          "model_module": "@jupyter-widgets/base",
          "model_name": "LayoutModel",
          "state": {
            "_view_name": "LayoutView",
            "grid_template_rows": null,
            "right": null,
            "justify_content": null,
            "_view_module": "@jupyter-widgets/base",
            "overflow": null,
            "_model_module_version": "1.2.0",
            "_view_count": null,
            "flex_flow": null,
            "width": null,
            "min_width": null,
            "border": null,
            "align_items": null,
            "bottom": null,
            "_model_module": "@jupyter-widgets/base",
            "top": null,
            "grid_column": null,
            "overflow_y": null,
            "overflow_x": null,
            "grid_auto_flow": null,
            "grid_area": null,
            "grid_template_columns": null,
            "flex": null,
            "_model_name": "LayoutModel",
            "justify_items": null,
            "grid_row": null,
            "max_height": null,
            "align_content": null,
            "visibility": null,
            "align_self": null,
            "height": null,
            "min_height": null,
            "padding": null,
            "grid_auto_rows": null,
            "grid_gap": null,
            "max_width": null,
            "order": null,
            "_view_module_version": "1.2.0",
            "grid_template_areas": null,
            "object_position": null,
            "object_fit": null,
            "grid_auto_columns": null,
            "margin": null,
            "display": null,
            "left": null
          }
        },
        "e6ca6e64e8094a0190389f20b87702cc": {
          "model_module": "@jupyter-widgets/controls",
          "model_name": "HBoxModel",
          "state": {
            "_view_name": "HBoxView",
            "_dom_classes": [],
            "_model_name": "HBoxModel",
            "_view_module": "@jupyter-widgets/controls",
            "_model_module_version": "1.5.0",
            "_view_count": null,
            "_view_module_version": "1.5.0",
            "box_style": "",
            "layout": "IPY_MODEL_3af47649c36f4980ba97e9c49556570a",
            "_model_module": "@jupyter-widgets/controls",
            "children": [
              "IPY_MODEL_f7ceb45a6ed34fffbd674a717e34098e",
              "IPY_MODEL_7480739c68fe4a1db88801d8dd3a3589"
            ]
          }
        },
        "3af47649c36f4980ba97e9c49556570a": {
          "model_module": "@jupyter-widgets/base",
          "model_name": "LayoutModel",
          "state": {
            "_view_name": "LayoutView",
            "grid_template_rows": null,
            "right": null,
            "justify_content": null,
            "_view_module": "@jupyter-widgets/base",
            "overflow": null,
            "_model_module_version": "1.2.0",
            "_view_count": null,
            "flex_flow": null,
            "width": null,
            "min_width": null,
            "border": null,
            "align_items": null,
            "bottom": null,
            "_model_module": "@jupyter-widgets/base",
            "top": null,
            "grid_column": null,
            "overflow_y": null,
            "overflow_x": null,
            "grid_auto_flow": null,
            "grid_area": null,
            "grid_template_columns": null,
            "flex": null,
            "_model_name": "LayoutModel",
            "justify_items": null,
            "grid_row": null,
            "max_height": null,
            "align_content": null,
            "visibility": null,
            "align_self": null,
            "height": null,
            "min_height": null,
            "padding": null,
            "grid_auto_rows": null,
            "grid_gap": null,
            "max_width": null,
            "order": null,
            "_view_module_version": "1.2.0",
            "grid_template_areas": null,
            "object_position": null,
            "object_fit": null,
            "grid_auto_columns": null,
            "margin": null,
            "display": null,
            "left": null
          }
        },
        "f7ceb45a6ed34fffbd674a717e34098e": {
          "model_module": "@jupyter-widgets/controls",
          "model_name": "FloatProgressModel",
          "state": {
            "_view_name": "ProgressView",
            "style": "IPY_MODEL_e238c0061fdb4b2293e9eb6359842dce",
            "_dom_classes": [],
            "description": "100%",
            "_model_name": "FloatProgressModel",
            "bar_style": "success",
            "max": 50000,
            "_view_module": "@jupyter-widgets/controls",
            "_model_module_version": "1.5.0",
            "value": 50000,
            "_view_count": null,
            "_view_module_version": "1.5.0",
            "orientation": "horizontal",
            "min": 0,
            "description_tooltip": null,
            "_model_module": "@jupyter-widgets/controls",
            "layout": "IPY_MODEL_170608a4b28f418599580a6b52fe4509"
          }
        },
        "7480739c68fe4a1db88801d8dd3a3589": {
          "model_module": "@jupyter-widgets/controls",
          "model_name": "HTMLModel",
          "state": {
            "_view_name": "HTMLView",
            "style": "IPY_MODEL_b0ead71753cf4364994a30a80cf6306b",
            "_dom_classes": [],
            "description": "",
            "_model_name": "HTMLModel",
            "placeholder": "​",
            "_view_module": "@jupyter-widgets/controls",
            "_model_module_version": "1.5.0",
            "value": " 50000/50000 [00:03&lt;00:00, 13172.81it/s]",
            "_view_count": null,
            "_view_module_version": "1.5.0",
            "description_tooltip": null,
            "_model_module": "@jupyter-widgets/controls",
            "layout": "IPY_MODEL_1fd3fdeba4ba446dbfebab294a8b178a"
          }
        },
        "e238c0061fdb4b2293e9eb6359842dce": {
          "model_module": "@jupyter-widgets/controls",
          "model_name": "ProgressStyleModel",
          "state": {
            "_view_name": "StyleView",
            "_model_name": "ProgressStyleModel",
            "description_width": "initial",
            "_view_module": "@jupyter-widgets/base",
            "_model_module_version": "1.5.0",
            "_view_count": null,
            "_view_module_version": "1.2.0",
            "bar_color": null,
            "_model_module": "@jupyter-widgets/controls"
          }
        },
        "170608a4b28f418599580a6b52fe4509": {
          "model_module": "@jupyter-widgets/base",
          "model_name": "LayoutModel",
          "state": {
            "_view_name": "LayoutView",
            "grid_template_rows": null,
            "right": null,
            "justify_content": null,
            "_view_module": "@jupyter-widgets/base",
            "overflow": null,
            "_model_module_version": "1.2.0",
            "_view_count": null,
            "flex_flow": null,
            "width": null,
            "min_width": null,
            "border": null,
            "align_items": null,
            "bottom": null,
            "_model_module": "@jupyter-widgets/base",
            "top": null,
            "grid_column": null,
            "overflow_y": null,
            "overflow_x": null,
            "grid_auto_flow": null,
            "grid_area": null,
            "grid_template_columns": null,
            "flex": null,
            "_model_name": "LayoutModel",
            "justify_items": null,
            "grid_row": null,
            "max_height": null,
            "align_content": null,
            "visibility": null,
            "align_self": null,
            "height": null,
            "min_height": null,
            "padding": null,
            "grid_auto_rows": null,
            "grid_gap": null,
            "max_width": null,
            "order": null,
            "_view_module_version": "1.2.0",
            "grid_template_areas": null,
            "object_position": null,
            "object_fit": null,
            "grid_auto_columns": null,
            "margin": null,
            "display": null,
            "left": null
          }
        },
        "b0ead71753cf4364994a30a80cf6306b": {
          "model_module": "@jupyter-widgets/controls",
          "model_name": "DescriptionStyleModel",
          "state": {
            "_view_name": "StyleView",
            "_model_name": "DescriptionStyleModel",
            "description_width": "",
            "_view_module": "@jupyter-widgets/base",
            "_model_module_version": "1.5.0",
            "_view_count": null,
            "_view_module_version": "1.2.0",
            "_model_module": "@jupyter-widgets/controls"
          }
        },
        "1fd3fdeba4ba446dbfebab294a8b178a": {
          "model_module": "@jupyter-widgets/base",
          "model_name": "LayoutModel",
          "state": {
            "_view_name": "LayoutView",
            "grid_template_rows": null,
            "right": null,
            "justify_content": null,
            "_view_module": "@jupyter-widgets/base",
            "overflow": null,
            "_model_module_version": "1.2.0",
            "_view_count": null,
            "flex_flow": null,
            "width": null,
            "min_width": null,
            "border": null,
            "align_items": null,
            "bottom": null,
            "_model_module": "@jupyter-widgets/base",
            "top": null,
            "grid_column": null,
            "overflow_y": null,
            "overflow_x": null,
            "grid_auto_flow": null,
            "grid_area": null,
            "grid_template_columns": null,
            "flex": null,
            "_model_name": "LayoutModel",
            "justify_items": null,
            "grid_row": null,
            "max_height": null,
            "align_content": null,
            "visibility": null,
            "align_self": null,
            "height": null,
            "min_height": null,
            "padding": null,
            "grid_auto_rows": null,
            "grid_gap": null,
            "max_width": null,
            "order": null,
            "_view_module_version": "1.2.0",
            "grid_template_areas": null,
            "object_position": null,
            "object_fit": null,
            "grid_auto_columns": null,
            "margin": null,
            "display": null,
            "left": null
          }
        }
      }
    }
  },
  "cells": [
    {
      "cell_type": "markdown",
      "metadata": {
        "id": "_0SzgnFlkU0L",
        "colab_type": "text"
      },
      "source": [
        "### Introduction\n",
        "\n",
        "In this exercise we will implement a neural network (NN) architecture from scratch. Building the neural network will give a hands-on experience converting mathematical foundations of NN such as feed-forward and backpropagation algorithms into Python code. The exercise will also include implementation of sub-functions in NN such as loss functions, activation functions, and derivatives.\n",
        "\n",
        "The model implemented will be tested on following examples:\n",
        "\n",
        "#### Classification:\n",
        "\n",
        "1. AND/OR Logic\n",
        "2. XOR Logic\n",
        "\n",
        "#### Regression:\n",
        "\n",
        "1. Sinusoidal curve\n",
        "2. Gaussian curve\n",
        "\n",
        "The model will be evaluated on real world data using the Wisconsin Breast Cancer Dataset. \n",
        "\n",
        "\n",
        "\n"
      ]
    },
    {
      "cell_type": "markdown",
      "metadata": {
        "id": "TJMvqyqgplyu",
        "colab_type": "text"
      },
      "source": [
        "### Problem Description\n",
        "\n",
        "You are provided with a base Class for implementation of a simple Neural Network. You will also be provided with templates for some of the helper functions. You are required to implement functions in the Neural Network Class. You are also required to test your neural network with various datasets and show the effect of modifying parameters. Below is a list of problems that you are expected to solve in this exercise:\n",
        "\n",
        "1. Complete the implementation of Feedforward and Backpropagation\n",
        "2. Implement functions for train, predict, and evaluate\n",
        "3. Generate datasets for AND, XOR logics and Sinusoidal, Gaussian functions\n",
        "4. Test your model using the above datasets. What are you choice of model parameters and how does it affect the performance?\n",
        "5. Implement functions to improve model performance. What are your observations\n",
        "6. Evaluate model performance on Wisconsin Breast Cancer dataset. What is the highest accuracy score obtained?"
      ]
    },
    {
      "cell_type": "markdown",
      "metadata": {
        "id": "HBZe_HR5tvba",
        "colab_type": "text"
      },
      "source": [
        "### Notes\n",
        "\n",
        "1. Only following Python libraries (and their functions) are allowed: **numpy, pandas, matplotlib, seaborn.** (The code provided include the use of sklearn library for loading data, evaluation, and TSNE encoding. Do not load any other functions from sklearn.)\n",
        "2. Following libraries from Python may not be used: **Keras, TensorFlow, pytorch, thean, scikit-learn (except functions that are already included)**\n",
        "3. You may refer to online resources but do not copy+paste. All submitted items will be checked for Plagiarism.\n",
        "4. The base class provided is for your reference. You are welcome to implement the NN algorithm differently. In that case, ensure that your implementation covers all the sub-problems. Also explain your methodology."
      ]
    },
    {
      "cell_type": "markdown",
      "metadata": {
        "id": "XV9SOKLRuQcp",
        "colab_type": "text"
      },
      "source": [
        "### Import Libraries\n",
        "\n",
        "* numpy, pandas - Data handling and processing\n",
        "* matplotlib, seaborn - Visualization\n",
        "* tqdm - For implementing progressbars\n",
        "* sklearn - datasets: to load breast cancer dataset, TSNE: for visualization\n"
      ]
    },
    {
      "cell_type": "code",
      "metadata": {
        "id": "bBkrzmUuvM5m",
        "colab_type": "code",
        "colab": {}
      },
      "source": [
        "# Imports\n",
        "import numpy as np\n",
        "from tqdm.notebook import tqdm\n",
        "import matplotlib.pyplot as plt\n",
        "import seaborn as sns\n"
      ],
      "execution_count": null,
      "outputs": []
    },
    {
      "cell_type": "code",
      "metadata": {
        "id": "IM04rippCHBP",
        "colab_type": "code",
        "colab": {
          "base_uri": "https://localhost:8080/",
          "height": 87
        },
        "outputId": "4e985f22-4550-4073-b540-d2d9dbcc226c"
      },
      "source": [
        "print(np.random.random(10))\n",
        "print(np.random.random(10))"
      ],
      "execution_count": null,
      "outputs": [
        {
          "output_type": "stream",
          "text": [
            "[0.55107384 0.8293605  0.94010508 0.93394536 0.26661945 0.41016175\n",
            " 0.02892481 0.63217081 0.90844981 0.58267821]\n",
            "[0.13237051 0.29820573 0.93317241 0.37234986 0.30949835 0.79195073\n",
            " 0.12109808 0.49504165 0.15403596 0.27466067]\n"
          ],
          "name": "stdout"
        }
      ]
    },
    {
      "cell_type": "code",
      "metadata": {
        "id": "qcSmNrIsCARD",
        "colab_type": "code",
        "colab": {
          "base_uri": "https://localhost:8080/",
          "height": 87
        },
        "outputId": "26664669-0759-4cf0-a52b-2c322e6ce398"
      },
      "source": [
        "print(np.random.RandomState(seed=30).random(10))\n",
        "print(np.random.RandomState(seed=20).random(10))"
      ],
      "execution_count": null,
      "outputs": [
        {
          "output_type": "stream",
          "text": [
            "[0.64414354 0.38074849 0.66304791 0.16365073 0.96260781 0.34666184\n",
            " 0.99175099 0.2350579  0.58569427 0.4066901 ]\n",
            "[0.5881308  0.89771373 0.89153073 0.81583748 0.03588959 0.69175758\n",
            " 0.37868094 0.51851095 0.65795147 0.19385022]\n"
          ],
          "name": "stdout"
        }
      ]
    },
    {
      "cell_type": "code",
      "metadata": {
        "id": "qj68l3hzCEGk",
        "colab_type": "code",
        "colab": {
          "base_uri": "https://localhost:8080/",
          "height": 34
        },
        "outputId": "14bbc181-f7fa-4716-d436-92d6102c4008"
      },
      "source": [
        "print(np.random.RandomState(20).random(2))"
      ],
      "execution_count": null,
      "outputs": [
        {
          "output_type": "stream",
          "text": [
            "[0.5881308  0.89771373]\n"
          ],
          "name": "stdout"
        }
      ]
    },
    {
      "cell_type": "markdown",
      "metadata": {
        "id": "6mJwuofS3ski",
        "colab_type": "text"
      },
      "source": [
        "### Phase 1: Implement and test a baseline Neural Network"
      ]
    },
    {
      "cell_type": "markdown",
      "metadata": {
        "id": "hdSftjSfKpTM",
        "colab_type": "text"
      },
      "source": [
        "#### 1.1 Activation functions and derivatives\n",
        "\n",
        "In the below cell we define sigmoid activation function and its derivative"
      ]
    },
    {
      "cell_type": "code",
      "metadata": {
        "id": "OB_Z7ydoKo7W",
        "colab_type": "code",
        "colab": {
          "base_uri": "https://localhost:8080/",
          "height": 247
        },
        "outputId": "a5758140-d803-4c7a-f2da-a7ca9ffae46d"
      },
      "source": [
        "# Activation function\n",
        "def sigmoid(t):\n",
        "    return 1/(1+np.exp(-t))\n",
        "\n",
        "# Derivative of sigmoid\n",
        "def sigmoid_derivative(p):\n",
        "    return p * (1 - p)\n",
        "\n",
        "# Activation function\n",
        "def relu(t):\n",
        "    return np.maximum(0,t) #这里放np.maximum() 和 max() 有啥区别啊\n",
        "\n",
        "# Derivative of relu\n",
        "def relu_derivative(p):\n",
        "  p[p<=0] = 0\n",
        "  p[p>0] = 1\n",
        "  return p\n",
        "\n",
        "# testing for Activation function\n",
        "t = np.random.uniform(0.0, 10.0, (3,3))\n",
        "print(t)\n",
        "print(relu(t), \"\\n\")\n",
        "\n",
        "# testing for Derivative of relu\n",
        "p = np.random.uniform(-1.0, 1.0, (3,3)) \n",
        "print(p)\n",
        "print(relu_derivative(p))\n"
      ],
      "execution_count": null,
      "outputs": [
        {
          "output_type": "stream",
          "text": [
            "[[4.4829416  8.23746034 0.14861413]\n",
            " [0.15886049 4.79249679 1.81624298]\n",
            " [5.50523689 6.26708086 9.43811059]]\n",
            "[[4.4829416  8.23746034 0.14861413]\n",
            " [0.15886049 4.79249679 1.81624298]\n",
            " [5.50523689 6.26708086 9.43811059]] \n",
            "\n",
            "[[ 0.69879704 -0.58157455  0.09813246]\n",
            " [-0.76858558  0.63355057 -0.52391769]\n",
            " [ 0.34100569 -0.65007347 -0.98914733]]\n",
            "[[1. 0. 1.]\n",
            " [0. 1. 0.]\n",
            " [1. 0. 0.]]\n"
          ],
          "name": "stdout"
        }
      ]
    },
    {
      "cell_type": "markdown",
      "metadata": {
        "id": "ybW08fHHDfaj",
        "colab_type": "text"
      },
      "source": [
        "#### 1.2 Loss functions and derivatives\n",
        "\n",
        "In the below cell we define rmse loss function and its derivative"
      ]
    },
    {
      "cell_type": "code",
      "metadata": {
        "id": "a47PIQ8yDfJm",
        "colab_type": "code",
        "colab": {}
      },
      "source": [
        "# Loss function - RMSE\n",
        "def rmse(y, ypred):\n",
        "    return np.sqrt(np.mean((y - ypred)**2))\n",
        "\n",
        "# Loss function derivative - RMSE\n",
        "def rmse_derivative(y, ypred):\n",
        "    return 2*(y - ypred)\n",
        "\n",
        "# Loss function - Cross Entropy\n",
        "# def cross_entropy(X,y):\n",
        "    # X = X.clip(min=1e-8,max=None)\n",
        "    # return \n",
        "    \n",
        "def cross_entropy(X,y):\n",
        "    \"\"\"\n",
        "    X is the output from fully connected layer (num_examples x num_classes)\n",
        "    y is labels (num_examples x 1)\n",
        "    \tNote that y is not one-hot encoded vector. \n",
        "    \tIt can be computed as y.argmax(axis=1) from one-hot encoded vectors of labels if required.\n",
        "    \"\"\"\n",
        "    m = y.shape[0]\n",
        "    p = softmax(X)\n",
        "    # We use multidimensional array indexing to extract \n",
        "    # softmax probability of the correct label for each sample.\n",
        "    # Refer to https://docs.scipy.org/doc/numpy/user/basics.indexing.html#indexing-multi-dimensional-arrays for understanding multidimensional array indexing.\n",
        "    log_likelihood = -np.log(p[range(m),y])\n",
        "    loss = np.sum(log_likelihood) / m\n",
        "    return loss\n",
        "\n",
        "\n",
        "# Loss function derivative - Cross Entropy\n",
        "# def cross_entropy_derivative(X,y):\n",
        "    # return "
      ],
      "execution_count": null,
      "outputs": []
    },
    {
      "cell_type": "markdown",
      "metadata": {
        "id": "LcF4O0iwCICj",
        "colab_type": "text"
      },
      "source": [
        "#### 1.3 Base Class\n",
        "\n",
        "Below is the base class implementation for Neural Network. Please add code whereever it reads **Write your code here**"
      ]
    },
    {
      "cell_type": "code",
      "metadata": {
        "id": "SvuXo01e0qYJ",
        "colab_type": "code",
        "colab": {}
      },
      "source": [
        "################# test only ########################\n",
        "#def cross_entropy():\n",
        " #   self.weights1   = np.random.rand(self.input.shape[1],4) \n",
        "  #  self.weights2   = np.random.rand(4,1)   \n",
        "  #  print(self.weights1)\n",
        " #   print(self.weights2)\n",
        "################# test only ########################"
      ],
      "execution_count": null,
      "outputs": []
    },
    {
      "cell_type": "code",
      "metadata": {
        "id": "ORNkfSoNvbWy",
        "colab_type": "code",
        "colab": {}
      },
      "source": [
        "# Class definition\n",
        "class NeuralNetwork:\n",
        "    def __init__(self, x, y, hidden_nodes, learning_rate):\n",
        "        \"\"\"\n",
        "        Class initializer. Loads the value of input data and initializes weights\n",
        "\n",
        "        Parameters:\n",
        "        x: input data\n",
        "        y: ground truth label\n",
        "\n",
        "        Sets class parameters:\n",
        "        self.x = input data\n",
        "        self.y = ground truth label\n",
        "        self.ypred = initialize prediction variable with zeros as the same shape as ground truth\n",
        "\n",
        "        self.weights = weights for each layer\n",
        "        self.bias = bias for each layer\n",
        "\n",
        "        self.hidden_nodes = number of nodes in the hidden layer\n",
        "        \"\"\"\n",
        "\n",
        "        self.x = x\n",
        "        self.y = y\n",
        "        self.ypred = np.zeros(y.shape)\n",
        "\n",
        "        self.hidden_nodes = hidden_nodes\n",
        "        \n",
        "        self.weights1 = np.random.rand(self.x.shape[1], self.hidden_nodes)\n",
        "        self.weights2 = np.random.rand(self.hidden_nodes, 1)\n",
        "\n",
        "        self.bias1 = np.random.rand(self.hidden_nodes)\n",
        "        self.bias2 = np.random.rand(1)\n",
        "\n",
        "        self.lr = learning_rate\n",
        "        \n",
        "        \n",
        "    def feedforward(self):\n",
        "        \"\"\"\n",
        "        Perform feedforward operation: input -> layer1 -> layer2\n",
        "        \n",
        "        HINT:\n",
        "        layer1 = activation(weight1<dot>x + bias1)\n",
        "        layer2 = activation(weight2<dot>x + bias2)\n",
        "\n",
        "        For example: self.layer1 = sigmoid(np.dot(self.x, self.weights1) + self.bias1)\n",
        "\n",
        "        Parameters:\n",
        "        x: input data\n",
        "        y: ground truth label\n",
        "\n",
        "        Return:\n",
        "        self.layer2: The output from layer2\n",
        "        \"\"\"\n",
        "\n",
        "        #Write your code here\n",
        "        self.layer1 = sigmoid(np.dot(self.x, self.weights1) + self.bias1)\n",
        "        self.layer2 = sigmoid(np.dot(self.layer1, self.weights2) + self.bias2)\n",
        "        return self.layer2\n",
        "        # Basically, it is just convert 2-layer Feedforward equation into 2 saparate row of code in python.\n",
        "        # Each row is representing 1 layer output formula.\n",
        "\n",
        "\n",
        "    def backprop(self):\n",
        "        \"\"\"\n",
        "        Perform backpropagation to update weights and bias: loss -> layer2 -> layer1\n",
        "        \n",
        "        HINT:\n",
        "        d_loss = derivative of loss (example rmse_derivative)\n",
        "        d_weights2 = layer1_out <dot> d_loss*d_activation\n",
        "        d_bias2 = I <dot> d_loss*d_activation\n",
        "\n",
        "        repeat for d_weights1 and d_bias1\n",
        "\n",
        "        Update weights and bias based on the error and learning rate\n",
        "\n",
        "        Updates:\n",
        "        Model weights and biases\n",
        "        \"\"\"\n",
        "        d_loss_layer2 = rmse_derivative(self.y, self.ypred)\n",
        "        #d_loss_layer2 = rmse_derivative(self.y, self.layer2)\n",
        "        \n",
        "        # Write your code here\n",
        "        # Layer 2\n",
        "      #  d_weights2 = np.dot(self.layer1.T, (d_loss_layer2 * sigmoid_derivative(self.layer2)))\n",
        "      #  d_bias2 = np.dot(np.ones((1, (d_loss_layer2 * sigmoid_derivative(self.layer2)).shape[0])), (d_loss_layer2 * sigmoid_derivative(self.layer2)))\n",
        "        # !!!!By dividing long equation into several equations. It would be easier to debug or edit the parameters!!!!!\n",
        "\n",
        "        gradient2 = (d_loss_layer2 * sigmoid_derivative(self.layer2))\n",
        "        d_weights2 = np.dot(self.layer1.T, gradient2)\n",
        "        d_bias2 = np.dot(np.ones((1, gradient2.shape[0])), gradient2)\n",
        "        # Follow the fomula, layer1output dot (derevative of loss * derivative of activation function)\n",
        "        # matrix2 is \"d_loss_layer2*d_activation\" at layer2\n",
        "        # np.ones(size_of_vector) => to make them all ones. \n",
        "        # matrix2.shape, which would return (# columns, # rows of the matrix) or len(matrix2[0]))\n",
        "        # to get the matrix size of \"1 x matrix2.shape[0]\" => 1 x \"column size\"\n",
        "        \n",
        "        # Layer 1\n",
        "        d_loss_layer1 = np.dot(gradient2, self.weights2.T)\n",
        "        gradient1 = (d_loss_layer1 * sigmoid_derivative(self.layer1))\n",
        "        d_weights1 = np.dot(self.x.T, gradient1)\n",
        "        d_bias1 = np.dot(np.ones((1, gradient1.shape[0])), gradient1)\n",
        "        # weight 1 is a bit more complicated, cuz it is back propagation, \n",
        "        # np.dot(d_loss_layer2 * sigmoid_derivative(self.layer2), self.weights2.T) is considered as \"d_loss\" for the 1st layer\n",
        "        # The rest just follow the weight2 fomula\n",
        "        # Follow the formula of d_bias2 will get the above formula\n",
        "\n",
        "\n",
        "        self.weights1 = self.weights1 + self.lr * d_weights1\n",
        "        self.weights2 = self.weights2 + self.lr * d_weights2\n",
        "        self.bias1 = self.bias1 + self.lr * d_bias1\n",
        "        self.bias2 = self.bias2 + self.lr * d_bias2\n",
        "\n",
        "\n",
        "    def train(self, x, y):\n",
        "        \"\"\"\n",
        "        Train the model based on training data passed as input\n",
        "        \n",
        "        HINT:\n",
        "        Training involves two steps:\n",
        "        output <- feedforward\n",
        "        update_weights <- backpropagate\n",
        "\n",
        "        Parameters:\n",
        "        x: input data\n",
        "        y: ground truth label\n",
        "\n",
        "        Return: NONE\n",
        "\n",
        "        Updates: prediction self.ypred\n",
        "        \"\"\"\n",
        "        self.x = x\n",
        "        self.y = y\n",
        "\n",
        "        # Write your code here\n",
        "        # predict\n",
        "        self.ypred = self.feedforward()\n",
        "        self.backprop()\n",
        "    \n",
        "    def predict(self, x):\n",
        "        \"\"\"\n",
        "        Predict the outcome for the given input using current model\n",
        "        \n",
        "        HINT:\n",
        "        For prediction output is obtained by performing feedforward\n",
        "\n",
        "        Parameters:\n",
        "        x: input data\n",
        "\n",
        "        Return: output prediction using the model (self.ypred)\n",
        "        \"\"\"\n",
        "        self.x = x\n",
        "\n",
        "        # Write your code here\n",
        "        self.ypred = self.feedforward() \n",
        "        return self.ypred\n",
        "\n",
        "    def evaluate(self, y, ypred):\n",
        "        \"\"\"\n",
        "        Compute the error for given ground truth and prediction obtained\n",
        "        \n",
        "        HINT:\n",
        "        Training involves two steps:\n",
        "        output <- feedforward\n",
        "        update_weights <- backpropagate\n",
        "\n",
        "        Parameters:\n",
        "        y: ground truth\n",
        "        ypred: output prediction\n",
        "\n",
        "        Return: prediction error self.loss\n",
        "        \"\"\"\n",
        "        self.y = y\n",
        "        self.ypred = ypred\n",
        "\n",
        "        # write your code here\n",
        "        self.loss = rmse(self.y, self.ypred)\n",
        "        return self.loss"
      ],
      "execution_count": null,
      "outputs": []
    },
    {
      "cell_type": "markdown",
      "metadata": {
        "id": "pmDLT3BzaZpE",
        "colab_type": "text"
      },
      "source": [
        ""
      ]
    },
    {
      "cell_type": "markdown",
      "metadata": {
        "id": "4lI0tPXhJiab",
        "colab_type": "text"
      },
      "source": [
        "#### 1.4 Backpropagation Algorithm\n",
        "\n",
        "<img src=\"https://miro.medium.com/max/1742/1*FceBJSJ7j8jHjb4TmLV0Ew.png\" width=\"600\" />\n",
        "\n",
        "Based on your code (The base NN class, activation, and loss functions) please explain how backpropagation works. Consider to explain the original algorithm and your code flow. Feel free to use mathematical equations, images, code outputs for your explanation.\n",
        "\n",
        "You may consider the following reference:\n",
        "\n",
        "1.   [BP Algorithm Implementation](http://www.adeveloperdiary.com/data-science/machine-learning/understand-and-implement-the-backpropagation-algorithm-from-scratch-in-python/)\n",
        "2.   [How BP Algorithm works](http://neuralnetworksanddeeplearning.com/chap2.html)\n",
        "\n"
      ]
    },
    {
      "cell_type": "markdown",
      "metadata": {
        "id": "w-9Zq3k-Pbx0",
        "colab_type": "text"
      },
      "source": [
        "#### 1.5: Classification Test\n",
        "\n",
        "Setup data for AND logic and XOR logic. Train the model and observe if the model is able to correctly classify\n",
        "\n",
        "For AND Logic:\n",
        "\n",
        "| x | x | y |\n",
        "|---|---|---|\n",
        "| 0 | 0 | 0 |\n",
        "| 0 | 1 | 0 |\n",
        "| 1 | 0 | 0 |\n",
        "| 1 | 1 | 1 |\n",
        "\n",
        "For XOR Logic:\n",
        "\n",
        "| x | x | y |\n",
        "|---|---|---|\n",
        "| 0 | 0 | 0 |\n",
        "| 0 | 1 | 1 |\n",
        "| 1 | 0 | 1 |\n",
        "| 1 | 1 | 0 |\n",
        "\n",
        "\n"
      ]
    },
    {
      "cell_type": "markdown",
      "metadata": {
        "id": "_mZcc-bSRwrQ",
        "colab_type": "text"
      },
      "source": [
        "##### 1.5.1 Initialization"
      ]
    },
    {
      "cell_type": "code",
      "metadata": {
        "id": "TwKcX08qLdT0",
        "colab_type": "code",
        "colab": {
          "base_uri": "https://localhost:8080/",
          "height": 194
        },
        "outputId": "9b978d9c-abe1-440c-ea38-dd7809b9f421"
      },
      "source": [
        "# XOR logic\n",
        "\n",
        "# Each row is a training example, each column is a feature\n",
        "# x = np.array(([X1, X2], ...), dtype=float)\n",
        "# y = np.array(([y], ...), dtype=float)\n",
        "\n",
        "x= np.array(([0,0],[0,1],[1,0],[1,1]), dtype=float)\n",
        "y= np.array(([0],[1],[1],[0]), dtype=float)\n",
        "\n",
        "hidden_nodes = 2\n",
        "learning_rate = 0.5\n",
        "\n",
        "\n",
        "\n",
        "NN = NeuralNetwork(x, y, hidden_nodes, learning_rate)\n",
        "print (\"Input : \\n\" + str(x))\n",
        "print (\"Actual Output: \\n\" + str(y))"
      ],
      "execution_count": null,
      "outputs": [
        {
          "output_type": "stream",
          "text": [
            "Input : \n",
            "[[0. 0.]\n",
            " [0. 1.]\n",
            " [1. 0.]\n",
            " [1. 1.]]\n",
            "Actual Output: \n",
            "[[0.]\n",
            " [1.]\n",
            " [1.]\n",
            " [0.]]\n"
          ],
          "name": "stdout"
        }
      ]
    },
    {
      "cell_type": "markdown",
      "metadata": {
        "id": "A5-21Y-kR1NR",
        "colab_type": "text"
      },
      "source": [
        "##### 1.5.2 Train model"
      ]
    },
    {
      "cell_type": "code",
      "metadata": {
        "id": "V-8pVV5HLmjS",
        "colab_type": "code",
        "colab": {
          "base_uri": "https://localhost:8080/",
          "height": 66,
          "referenced_widgets": [
            "c202e8583a6e4a18946d026ff5c3fc6c",
            "84c303007b084601bbf96fdd6a6cd5d3",
            "6e8daa2d965049bbb7ed3a93c3364d9d",
            "cbaf24b4b7f145d3bc38f1abfa7175ed",
            "f57c74d40d87477496726ffa675f0e29",
            "c0375ed0a0cc44d796485613bf9cf0fb",
            "3e59c5cfc72045948db40adc102bb5ae",
            "181ce32c552c4395bceb90ee6a8348b1"
          ]
        },
        "outputId": "e96a2ad7-1870-4d7a-cf1f-4cfd236ab612"
      },
      "source": [
        "loss = []\n",
        "epochs = 50000\n",
        "\n",
        "#tqdm generates a progress bar\n",
        "for i in tqdm(range(epochs)):\n",
        "    loss.append(NN.evaluate(NN.y, NN.ypred))\n",
        "    NN.train(x, y)"
      ],
      "execution_count": null,
      "outputs": [
        {
          "output_type": "display_data",
          "data": {
            "application/vnd.jupyter.widget-view+json": {
              "model_id": "c202e8583a6e4a18946d026ff5c3fc6c",
              "version_minor": 0,
              "version_major": 2
            },
            "text/plain": [
              "HBox(children=(FloatProgress(value=0.0, max=50000.0), HTML(value='')))"
            ]
          },
          "metadata": {
            "tags": []
          }
        },
        {
          "output_type": "stream",
          "text": [
            "\n"
          ],
          "name": "stdout"
        }
      ]
    },
    {
      "cell_type": "markdown",
      "metadata": {
        "id": "Fyqua0vLSFzo",
        "colab_type": "text"
      },
      "source": [
        "##### 1.5.3 Loss trend over epochs\n",
        "\n",
        "Observing the loss trend helps choose model parameters. For example, if the loss is continuing to decrease, the number of epochs may need to be increased. Choice of learning rate may affect the loss trend"
      ]
    },
    {
      "cell_type": "code",
      "metadata": {
        "id": "qSZtgsPKz9hZ",
        "colab_type": "code",
        "colab": {
          "base_uri": "https://localhost:8080/",
          "height": 282
        },
        "outputId": "f4328cc6-1cde-4fc8-cf9a-48036243beea"
      },
      "source": [
        "plt.plot(loss)"
      ],
      "execution_count": null,
      "outputs": [
        {
          "output_type": "execute_result",
          "data": {
            "text/plain": [
              "[<matplotlib.lines.Line2D at 0x7f541d29ff60>]"
            ]
          },
          "metadata": {
            "tags": []
          },
          "execution_count": 120
        },
        {
          "output_type": "display_data",
          "data": {
            "image/png": "[encoded data removed]",
            "text/plain": [
              "<Figure size 432x288 with 1 Axes>"
            ]
          },
          "metadata": {
            "tags": [],
            "needs_background": "light"
          }
        }
      ]
    },
    {
      "cell_type": "markdown",
      "metadata": {
        "id": "2MSKgXX_0Ohz",
        "colab_type": "text"
      },
      "source": [
        "![loss trend](https://i.imgur.com/4zg6YTs.png)"
      ]
    },
    {
      "cell_type": "markdown",
      "metadata": {
        "id": "-oAk-lGpSmbx",
        "colab_type": "text"
      },
      "source": [
        "##### 1.5.4 Print weights and biases"
      ]
    },
    {
      "cell_type": "code",
      "metadata": {
        "id": "4C-tt736Mx2e",
        "colab_type": "code",
        "colab": {
          "base_uri": "https://localhost:8080/",
          "height": 194
        },
        "outputId": "b1528fa4-27a7-41cc-b16c-e7bac82ba1e9"
      },
      "source": [
        "print('weights 1:\\n', NN.weights1)\n",
        "print('weights 2:\\n', NN.weights2)\n",
        "\n",
        "print('bias 1:\\n', NN.bias1)\n",
        "print('bias 2:\\n', NN.bias2)"
      ],
      "execution_count": null,
      "outputs": [
        {
          "output_type": "stream",
          "text": [
            "weights 1:\n",
            " [[5.34487709 7.13910711]\n",
            " [5.3457642  7.1425475 ]]\n",
            "weights 2:\n",
            " [[-12.5653055 ]\n",
            " [ 11.90014594]]\n",
            "bias 1:\n",
            " [[-8.18782803 -3.25665468]]\n",
            "bias 2:\n",
            " [[-5.61729371]]\n"
          ],
          "name": "stdout"
        }
      ]
    },
    {
      "cell_type": "markdown",
      "metadata": {
        "id": "8CDMv86wTP4v",
        "colab_type": "text"
      },
      "source": [
        "##### 1.5.5 Observe Decision Boundary\n",
        "\n",
        "The below code is used to visualize the decision boundary over the region between 0 to 1 for both feature inputs. Do not modify the code below. Ensure your neural network is trained before running the code below"
      ]
    },
    {
      "cell_type": "code",
      "metadata": {
        "id": "JMybBe-sMxy0",
        "colab_type": "code",
        "colab": {
          "base_uri": "https://localhost:8080/",
          "height": 337
        },
        "outputId": "f9c4bc8f-b35e-4725-9f2e-d737e34ee694"
      },
      "source": [
        "outcome = []\n",
        "for i in np.arange(0,1,0.01):\n",
        "  for j in np.arange(0,1,0.01):\n",
        "    p = NN.predict(x=[i, j])\n",
        "    outcome.append([i, j, p[0]])\n",
        "  \n",
        "outcome = np.array(outcome)\n",
        "\n",
        "f = plt.figure(figsize=(5,5))\n",
        "plt.scatter(outcome[:,0], outcome[:,1], c=outcome[:,2], cmap=\"coolwarm\")\n",
        "\n",
        "# XOR logic with 8 hidden neurons, to compare with pix below"
      ],
      "execution_count": null,
      "outputs": [
        {
          "output_type": "execute_result",
          "data": {
            "text/plain": [
              "<matplotlib.collections.PathCollection at 0x7f541d241c50>"
            ]
          },
          "metadata": {
            "tags": []
          },
          "execution_count": 122
        },
        {
          "output_type": "display_data",
          "data": {
            "image/png": "[encoded data removed]",
            "text/plain": [
              "<Figure size 360x360 with 1 Axes>"
            ]
          },
          "metadata": {
            "tags": [],
            "needs_background": "light"
          }
        }
      ]
    },
    {
      "cell_type": "markdown",
      "metadata": {
        "id": "VZGgoEcVz1_5",
        "colab_type": "text"
      },
      "source": [
        "**Model with 8 hidden nodes**\n",
        "\n",
        "![alt text](https://i.imgur.com/07ekfU8.png)\n",
        "\n",
        "**Model with 2 hidden nodes**\n",
        "\n",
        "![alt text](https://i.imgur.com/LdRJWyC.png)"
      ]
    },
    {
      "cell_type": "markdown",
      "metadata": {
        "id": "QtZatxJbUiGz",
        "colab_type": "text"
      },
      "source": [
        "\n",
        "#### 1.6 Classification: Notes\n",
        "\n",
        "* Perform from steps **1.5.1 to 1.5.5 for each of AND logic and XOR logic** separately\n",
        "* You may additional text or code cells to note down the outcomes as appropriate\n",
        "* Add a text cell to highlight your observations and inference\n",
        "\n"
      ]
    },
    {
      "cell_type": "code",
      "metadata": {
        "colab_type": "code",
        "id": "ZKYgirUwuVqk",
        "colab": {
          "base_uri": "https://localhost:8080/",
          "height": 425
        },
        "outputId": "8c1ee792-bc49-423a-ceba-537e62608502"
      },
      "source": [
        "# # # # # # # # # # # # \n",
        "# Retry with AND logic#\n",
        "# # # # # # # # # # # # \n",
        "\n",
        "# Activation function\n",
        "def sigmoid(t):\n",
        "    return 1/(1+np.exp(-t))\n",
        "\n",
        "# Derivative of sigmoid\n",
        "def sigmoid_derivative(p):\n",
        "    return p * (1 - p)\n",
        "\n",
        "# Activation function\n",
        "def relu(t):\n",
        "    return np.maximum(0,t) #这里放np.maximum() 和 max() 有啥区别啊\n",
        "\n",
        "# Derivative of relu\n",
        "def relu_derivative(p):\n",
        "  p[p<=0] = 0\n",
        "  p[p>0] = 1\n",
        "  return p\n",
        "\n",
        "# testing for Activation function\n",
        "t = np.random.uniform(0.0, 10.0, (3,3))\n",
        "print(t)\n",
        "print(relu(t), \"\\n\")\n",
        "\n",
        "# testing for Derivative of relu\n",
        "p = np.random.uniform(-1.0, 1.0, (3,3)) \n",
        "print(p)\n",
        "print(relu_derivative(p))\n",
        "\n",
        "# Loss function - RMSE\n",
        "def rmse(y, ypred):\n",
        "    return np.sqrt(np.mean((y - ypred)**2))\n",
        "\n",
        "# Loss function derivative - RMSE\n",
        "def rmse_derivative(y, ypred):\n",
        "    return 2*(y - ypred)\n",
        "\n",
        "class NeuralNetwork_AND:\n",
        "    def __init__(self, x, y, hidden_nodes, learning_rate):\n",
        "        self.x = x\n",
        "        self.y = y\n",
        "        self.ypred = np.zeros(y.shape)\n",
        "        self.hidden_nodes = hidden_nodes\n",
        "        self.weights1 = np.random.rand(self.x.shape[1], self.hidden_nodes)\n",
        "        self.weights2 = np.random.rand(self.hidden_nodes, 1)\n",
        "        self.bias1 = np.random.rand(self.hidden_nodes)\n",
        "        self.bias2 = np.random.rand(1)\n",
        "        self.lr = learning_rate\n",
        "        \n",
        "    def feedforward(self):\n",
        "        self.layer1 = sigmoid(np.dot(self.x, self.weights1) + self.bias1)\n",
        "        self.layer2 = sigmoid(np.dot(self.layer1, self.weights2) + self.bias2)\n",
        "        return self.layer2\n",
        "\n",
        "    def backprop(self):\n",
        "        d_loss_layer2 = rmse_derivative(self.y, self.ypred)\n",
        "        gradient2 = (d_loss_layer2 * sigmoid_derivative(self.layer2))\n",
        "        d_weights2 = np.dot(self.layer1.T, gradient2)\n",
        "        d_bias2 = np.dot(np.ones((1, gradient2.shape[0])), gradient2)\n",
        "        d_loss_layer1 = np.dot(gradient2, self.weights2.T)\n",
        "        gradient1 = (d_loss_layer1 * sigmoid_derivative(self.layer1))\n",
        "        d_weights1 = np.dot(self.x.T, gradient1)\n",
        "        d_bias1 = np.dot(np.ones((1, gradient1.shape[0])), gradient1)\n",
        "\n",
        "        self.weights1 = self.weights1 + self.lr * d_weights1\n",
        "        self.weights2 = self.weights2 + self.lr * d_weights2\n",
        "        self.bias1 = self.bias1 + self.lr * d_bias1\n",
        "        self.bias2 = self.bias2 + self.lr * d_bias2\n",
        "\n",
        "    def train(self, x, y):\n",
        "        self.x = x\n",
        "        self.y = y\n",
        "\n",
        "        self.ypred = self.feedforward()\n",
        "        self.backprop()\n",
        "    \n",
        "    def predict(self, x):\n",
        "        self.x = x\n",
        "        self.ypred = self.feedforward() \n",
        "        return self.ypred\n",
        "\n",
        "    def evaluate(self, y, ypred):\n",
        "        self.y = y\n",
        "        self.ypred = ypred\n",
        "        self.loss = rmse(self.y, self.ypred)\n",
        "        return self.loss\n",
        "\n",
        "x= np.array(([0,0],[0,1],[1,0],[1,1]), dtype=float)\n",
        "y= np.array(([0],[0],[0],[1]), dtype=float)\n",
        "\n",
        "hidden_nodes = 2\n",
        "learning_rate = 0.5\n",
        "\n",
        "NN = NeuralNetwork_AND(x, y, hidden_nodes, learning_rate)\n",
        "print (\"Input : \\n\" + str(x))\n",
        "print (\"Actual Output: \\n\" + str(y))"
      ],
      "execution_count": null,
      "outputs": [
        {
          "output_type": "stream",
          "text": [
            "[[3.2813881  4.47932204 8.31746052]\n",
            " [0.9805283  7.40930616 1.25955556]\n",
            " [3.21617741 2.7870434  9.37750966]]\n",
            "[[3.2813881  4.47932204 8.31746052]\n",
            " [0.9805283  7.40930616 1.25955556]\n",
            " [3.21617741 2.7870434  9.37750966]] \n",
            "\n",
            "[[-0.82168753 -0.38311894  0.83102362]\n",
            " [-0.03974748 -0.65938244 -0.73562411]\n",
            " [-0.62613757  0.22760816  0.38317679]]\n",
            "[[0. 0. 1.]\n",
            " [0. 0. 0.]\n",
            " [0. 1. 1.]]\n",
            "Input : \n",
            "[[0. 0.]\n",
            " [0. 1.]\n",
            " [1. 0.]\n",
            " [1. 1.]]\n",
            "Actual Output: \n",
            "[[0.]\n",
            " [0.]\n",
            " [0.]\n",
            " [1.]]\n"
          ],
          "name": "stdout"
        }
      ]
    },
    {
      "cell_type": "code",
      "metadata": {
        "colab_type": "code",
        "id": "8YJyGQgGunrY",
        "colab": {
          "base_uri": "https://localhost:8080/",
          "height": 332,
          "referenced_widgets": [
            "e6ca6e64e8094a0190389f20b87702cc",
            "3af47649c36f4980ba97e9c49556570a",
            "f7ceb45a6ed34fffbd674a717e34098e",
            "7480739c68fe4a1db88801d8dd3a3589",
            "e238c0061fdb4b2293e9eb6359842dce",
            "170608a4b28f418599580a6b52fe4509",
            "b0ead71753cf4364994a30a80cf6306b",
            "1fd3fdeba4ba446dbfebab294a8b178a"
          ]
        },
        "outputId": "9cab4e68-2b38-491f-c13e-28072d45434e"
      },
      "source": [
        "loss = []\n",
        "epochs = 50000\n",
        "\n",
        "#tqdm generates a progress bar\n",
        "for i in tqdm(range(epochs)):\n",
        "    loss.append(NN.evaluate(NN.y, NN.ypred))\n",
        "    NN.train(x, y)\n",
        "plt.plot(loss)"
      ],
      "execution_count": null,
      "outputs": [
        {
          "output_type": "display_data",
          "data": {
            "application/vnd.jupyter.widget-view+json": {
              "model_id": "e6ca6e64e8094a0190389f20b87702cc",
              "version_minor": 0,
              "version_major": 2
            },
            "text/plain": [
              "HBox(children=(FloatProgress(value=0.0, max=50000.0), HTML(value='')))"
            ]
          },
          "metadata": {
            "tags": []
          }
        },
        {
          "output_type": "stream",
          "text": [
            "\n"
          ],
          "name": "stdout"
        },
        {
          "output_type": "execute_result",
          "data": {
            "text/plain": [
              "[<matplotlib.lines.Line2D at 0x7f541ce2b748>]"
            ]
          },
          "metadata": {
            "tags": []
          },
          "execution_count": 130
        },
        {
          "output_type": "display_data",
          "data": {
            "image/png": "[encoded data removed]",
            "text/plain": [
              "<Figure size 432x288 with 1 Axes>"
            ]
          },
          "metadata": {
            "tags": [],
            "needs_background": "light"
          }
        }
      ]
    },
    {
      "cell_type": "code",
      "metadata": {
        "id": "411Ae9xUu5rx",
        "colab_type": "code",
        "colab": {
          "base_uri": "https://localhost:8080/",
          "height": 515
        },
        "outputId": "ab0db4e0-661a-471f-de4c-27f182160664"
      },
      "source": [
        "print('weights 1:\\n', NN.weights1)\n",
        "print('weights 2:\\n', NN.weights2)\n",
        "\n",
        "print('bias 1:\\n', NN.bias1)\n",
        "print('bias 2:\\n', NN.bias2)\n",
        "\n",
        "outcome = []\n",
        "for i in np.arange(0,1,0.01):\n",
        "  for j in np.arange(0,1,0.01):\n",
        "    p = NN.predict(x=[i, j])\n",
        "    outcome.append([i, j, p[0]])\n",
        "  \n",
        "outcome = np.array(outcome)\n",
        "\n",
        "f = plt.figure(figsize=(5,5))\n",
        "plt.scatter(outcome[:,0], outcome[:,1], c=outcome[:,2], cmap=\"coolwarm\")\n"
      ],
      "execution_count": null,
      "outputs": [
        {
          "output_type": "stream",
          "text": [
            "weights 1:\n",
            " [[5.02837444 1.52866584]\n",
            " [5.16806251 0.40520296]]\n",
            "weights 2:\n",
            " [[12.55058812]\n",
            " [ 0.68033374]]\n",
            "bias 1:\n",
            " [[-7.60392012 -0.84518636]]\n",
            "bias 2:\n",
            " [[-6.84971555]]\n"
          ],
          "name": "stdout"
        },
        {
          "output_type": "execute_result",
          "data": {
            "text/plain": [
              "<matplotlib.collections.PathCollection at 0x7f541d0adf60>"
            ]
          },
          "metadata": {
            "tags": []
          },
          "execution_count": 128
        },
        {
          "output_type": "display_data",
          "data": {
            "image/png": "[encoded data removed]",
            "text/plain": [
              "<Figure size 360x360 with 1 Axes>"
            ]
          },
          "metadata": {
            "tags": [],
            "needs_background": "light"
          }
        }
      ]
    },
    {
      "cell_type": "markdown",
      "metadata": {
        "id": "9Vc5MfIF09bT",
        "colab_type": "text"
      },
      "source": [
        "1.6.5 !!!!!!!!!!!!!!!!!Observe Decision Boundary\n",
        "A decision boundary is the region of a problem space in which the output label of a classifier is ambiguous. If the decision surface is a hyperplane, then the classification problem is linear, and the classes are linearly separable. Decision boundaries are not always clear cut.\n",
        "\n",
        "As shown in the figure, the XOR function is linearly separable.!!!!!!!!!!!!!!!!!!!!!!!!!!!!!!!!!!EDITTTTTTTT"
      ]
    },
    {
      "cell_type": "markdown",
      "metadata": {
        "id": "n2kHMRl7VahL",
        "colab_type": "text"
      },
      "source": [
        "#### 1.7: Regression Test\n",
        "\n",
        "Setup data for a Sinusoidal function and Gaussian function. For example,\n",
        "\n",
        "```\n",
        "x = np.arange(-1,1,0.01).reshape(-1,1)\n",
        "y = np.sin(np.pi*x)\n",
        "```\n",
        "\n",
        "HINT: When the output values are negative sigmoid activation at the output may not work. You may need to consider alternatives such as linear or tanh. If you find this difficult to implement you may consider only the positive cycle range for sine.\n",
        "\n",
        "Also note that when training entire batch of input (for eg. 200 samples) may lead to overflow. You may need to modify the code for sequential learning or mini-batch learning.\n",
        "\n",
        "Repeat the steps from 1.5.1 to 1.5.4 and record your outcomes. For visualizing the outcome **(do not use 1.5.5)** instead run the following code."
      ]
    },
    {
      "cell_type": "markdown",
      "metadata": {
        "id": "R-bAke_FaD4G",
        "colab_type": "text"
      },
      "source": [
        "##### 1.7.5: Observe outcomes"
      ]
    },
    {
      "cell_type": "code",
      "metadata": {
        "id": "zuVVJ_SUVaQ7",
        "colab_type": "code",
        "colab": {
          "base_uri": "https://localhost:8080/",
          "height": 282
        },
        "outputId": "fdef5deb-4cb8-4759-81f5-b45eab8d21b3"
      },
      "source": [
        "plt.plot(y, linewidth=3)\n",
        "plt.plot(NN.predict(x), linewidth=3)\n",
        "plt.legend(['label', 'prediction'])"
      ],
      "execution_count": null,
      "outputs": [
        {
          "output_type": "execute_result",
          "data": {
            "text/plain": [
              "<matplotlib.legend.Legend at 0x7f541cb60940>"
            ]
          },
          "metadata": {
            "tags": []
          },
          "execution_count": 131
        },
        {
          "output_type": "display_data",
          "data": {
            "image/png": "[encoded data removed]",
            "text/plain": [
              "<Figure size 432x288 with 1 Axes>"
            ]
          },
          "metadata": {
            "tags": [],
            "needs_background": "light"
          }
        }
      ]
    },
    {
      "cell_type": "markdown",
      "metadata": {
        "id": "U25sD_Bj0IF0",
        "colab_type": "text"
      },
      "source": [
        "![Sine fit](https://i.imgur.com/zp9jsmL.png)"
      ]
    },
    {
      "cell_type": "markdown",
      "metadata": {
        "id": "0bicOChJeho9",
        "colab_type": "text"
      },
      "source": [
        "#### 1.8 Regrerssion: Notes\n",
        "\n",
        "Using the steps illustrated for Problem 2 (except observing outcomes) test the ability of your neural network to perform regression task. What are your observations. How are some of the ways that the model can be improved?"
      ]
    },
    {
      "cell_type": "markdown",
      "metadata": {
        "id": "WkVzMMkZh_Eq",
        "colab_type": "text"
      },
      "source": [
        "### Phase 2: Integrate additional functionalities to the Neural Network model\n",
        "\n",
        "The base class implementation of Neural Network provided is elementary and there are several features that can be improved. Implement any 3 of the following possible improvements (You are welcome to try all 5)\n",
        "\n",
        "1. Introduce regularization of model parameters (weights and bias)\n",
        "2. Enable mini-batch/ sequential learning where the number of items in a batch can be customized.\n",
        "3. Implement one more hidden layer\n",
        "4. Introduce ReLU activation. Implement Cross Entropy loss function.\n",
        "5. Enable one or more of the following: Learning rate decay, early-stopping, Custom weights and bias initializer (eg. zeros, ones, Gaussian, etc)\n",
        "\n",
        "HINTS:\n",
        "\n",
        "* For 1, a regularization parameter will be required which can be set under __init__\n",
        "* For 2, Batch learning can be introduced while training the model using a nested for loop approach. This does not require modification of the original class\n",
        "* For 3, you will have to backpropagate loss through one more layer, which is like a chain operation\n",
        "* For 4 and 5, you need to implement both the actual function (for feed-forward) and its derivate (for backpropagation)\n",
        "\n",
        "\n",
        "\n"
      ]
    },
    {
      "cell_type": "markdown",
      "metadata": {
        "id": "xfpwte8XlLMQ",
        "colab_type": "text"
      },
      "source": [
        "#### Text description for Phase 2"
      ]
    },
    {
      "cell_type": "code",
      "metadata": {
        "id": "5goOhp84MxrT",
        "colab_type": "code",
        "colab": {}
      },
      "source": [
        "### Codes related to Phase 2\n",
        "\n",
        "\n",
        "\n",
        "\n"
      ],
      "execution_count": null,
      "outputs": []
    },
    {
      "cell_type": "markdown",
      "metadata": {
        "id": "HC2VjnqSklnJ",
        "colab_type": "text"
      },
      "source": [
        "### Phase 2: Notes\n",
        "\n",
        "* All changes to the model can be tested using any one of the datasets used for classification test *(Problem 1)*, regression test *(Problem 2)*, or breast cancer dataset *(Problem 4)*\n",
        "* Any code snippet that is modified should be written separately in code cells above.\n",
        "* All modification and their impact on model performance must be described in detail in text cells below. Feel free to add images, mathematical equations, flowcharts, comparison scores, etc.\n",
        "* Add as many number of text or code cells as required\n",
        "* Note that sometimes it is easy to copy the outcomes from a previous cell execution in the form of an image (example, right click -> save image or screenshot), and embed the image in a text cell to describe the outcome.\n",
        "\n"
      ]
    },
    {
      "cell_type": "markdown",
      "metadata": {
        "id": "vEcjUzpgCwhn",
        "colab_type": "text"
      },
      "source": [
        "### Phase 3: Classify cancerous cells using Wisconsin Breast Cancer Dataset\n",
        "\n",
        "It is important to evaluate your Neural Network implementation on real-life dataset in order to measure performance, and identify scope for improvements. In this problem you will test the best variant of your model on the breast cancer dataset. More information about the data can be found [here](http://archive.ics.uci.edu/ml/datasets/breast+cancer+wisconsin+%28diagnostic%29).\n",
        "\n"
      ]
    },
    {
      "cell_type": "markdown",
      "metadata": {
        "id": "RXY0bzrQoMLX",
        "colab_type": "text"
      },
      "source": [
        "#### 3.1 Load Data\n",
        "\n",
        "Please note that the data loaded may not be normalized. Implement a data noramalization function and process the data through the normalizer before using it for training.\n",
        "\n",
        "The dataset consists of 569 samples and 30 features. There are two classes identifying the cancer as bening or malign."
      ]
    },
    {
      "cell_type": "code",
      "metadata": {
        "id": "ehqkXkQD40PA",
        "colab_type": "code",
        "colab": {}
      },
      "source": [
        "from sklearn.datasets import load_breast_cancer\n",
        "from sklearn.manifold import TSNE"
      ],
      "execution_count": null,
      "outputs": []
    },
    {
      "cell_type": "code",
      "metadata": {
        "id": "lGzdLEWBojiK",
        "colab_type": "code",
        "colab": {}
      },
      "source": [
        "# DO NOT MODIFY this cell\n",
        "\n",
        "data = load_breast_cancer().data\n",
        "target = load_breast_cancer().target\n",
        "\n",
        "test_idx = np.array([  9,  10,  12,  15,  16,  20,  22,  25,  38,  47,  57,  61,  68,\n",
        "        73,  74,  84,  85,  91,  93, 108, 112, 117, 119, 135, 136, 138,\n",
        "       140, 147, 149, 152, 171, 172, 173, 180, 182, 186, 187, 205, 207,\n",
        "       210, 218, 235, 239, 242, 251, 267, 270, 275, 283, 285, 286, 288,\n",
        "       291, 305, 307, 310, 315, 318, 319, 323, 337, 339, 346, 350, 352,\n",
        "       368, 370, 374, 378, 389, 402, 408, 414, 415, 419, 422, 428, 430,\n",
        "       433, 435, 442, 451, 458, 459, 464, 465, 469, 470, 480, 484, 486,\n",
        "       501, 510, 532, 533, 536, 537, 543, 553, 560])\n",
        "\n",
        "train_idx = list(set(test_idx)^set(np.arange(len(data))))\n",
        "\n",
        "data_train = data[train_idx]\n",
        "target_train = target[train_idx]\n",
        "\n",
        "data_test = data[test_idx]\n",
        "target_test= target[test_idx]"
      ],
      "execution_count": null,
      "outputs": []
    },
    {
      "cell_type": "code",
      "metadata": {
        "id": "Bqqy1uEmrJE1",
        "colab_type": "code",
        "colab": {}
      },
      "source": [
        "# Implement code for data normalization. Remember you need to use normalization \n",
        "# parameters from training data and apply the same for test data. Eg. maximum \n",
        "# and minimum values.\n",
        "\n",
        "# def normalize(data, tr_min, tr_max):\n",
        "    # return \n",
        "\n",
        "\n",
        "# data_train_scaled = normalize(<params>)\n",
        "# data_test_scaled = normalize(<params>)"
      ],
      "execution_count": null,
      "outputs": []
    },
    {
      "cell_type": "markdown",
      "metadata": {
        "id": "fud-DLuAtZOJ",
        "colab_type": "text"
      },
      "source": [
        "#### 3.2 Training and Prediction"
      ]
    },
    {
      "cell_type": "code",
      "metadata": {
        "id": "c7LX6dmGZApj",
        "colab_type": "code",
        "colab": {
          "base_uri": "https://localhost:8080/",
          "height": 167
        },
        "outputId": "9c043e23-b56c-41ee-ab05-5578c3149ade"
      },
      "source": [
        "NN = NeuralNetwork(data_train_scaled, target_train, 16, 0.01)"
      ],
      "execution_count": null,
      "outputs": [
        {
          "output_type": "error",
          "ename": "NameError",
          "evalue": "ignored",
          "traceback": [
            "\u001b[0;31m---------------------------------------------------------------------------\u001b[0m",
            "\u001b[0;31mNameError\u001b[0m                                 Traceback (most recent call last)",
            "\u001b[0;32m<ipython-input-59-fcbeabf77973>\u001b[0m in \u001b[0;36m<module>\u001b[0;34m()\u001b[0m\n\u001b[0;32m----> 1\u001b[0;31m \u001b[0mNN\u001b[0m \u001b[0;34m=\u001b[0m \u001b[0mNeuralNetwork\u001b[0m\u001b[0;34m(\u001b[0m\u001b[0mdata_train_scaled\u001b[0m\u001b[0;34m,\u001b[0m \u001b[0mtarget_train\u001b[0m\u001b[0;34m,\u001b[0m \u001b[0;36m16\u001b[0m\u001b[0;34m,\u001b[0m \u001b[0;36m0.01\u001b[0m\u001b[0;34m)\u001b[0m\u001b[0;34m\u001b[0m\u001b[0;34m\u001b[0m\u001b[0m\n\u001b[0m",
            "\u001b[0;31mNameError\u001b[0m: name 'data_train_scaled' is not defined"
          ]
        }
      ]
    },
    {
      "cell_type": "code",
      "metadata": {
        "id": "KVQapdi3ZAcc",
        "colab_type": "code",
        "colab": {}
      },
      "source": [
        "# perform training. Consider modifying the previous training example for mini-batch or sequential training\n",
        "# loss = []\n",
        "\n",
        "# for i in tqdm(range(1000)): # trains the NN 1,000 times\n",
        "    \n",
        "\n",
        "\n",
        "\n",
        "\n",
        "    "
      ],
      "execution_count": null,
      "outputs": []
    },
    {
      "cell_type": "code",
      "metadata": {
        "id": "Dg8e1ZcUZANQ",
        "colab_type": "code",
        "colab": {}
      },
      "source": [
        "f = plt.figure(figsize=(20,5))\n",
        "plt.plot(loss)"
      ],
      "execution_count": null,
      "outputs": []
    },
    {
      "cell_type": "code",
      "metadata": {
        "id": "RKFrhNt9txaL",
        "colab_type": "code",
        "colab": {}
      },
      "source": [
        ""
      ],
      "execution_count": null,
      "outputs": []
    },
    {
      "cell_type": "markdown",
      "metadata": {
        "id": "5l802AKHsu4e",
        "colab_type": "text"
      },
      "source": [
        "#### 3.3 Results and Visualization"
      ]
    },
    {
      "cell_type": "code",
      "metadata": {
        "id": "lhiiK1I9hsDc",
        "colab_type": "code",
        "colab": {}
      },
      "source": [
        "from sklearn.manifold import TSNE\n",
        "from sklearn.metrics import classification_report, confusion_matrix"
      ],
      "execution_count": null,
      "outputs": []
    },
    {
      "cell_type": "code",
      "metadata": {
        "id": "xlVs-Oe58b6u",
        "colab_type": "code",
        "colab": {}
      },
      "source": [
        "# Do not modify this cell\n",
        "y_pred = NN.predict(data_train_scaled)\n",
        "y_pred_class = np.where(y_pred>=0.5, 1, 0)\n",
        "\n",
        "X_embedded = TSNE(n_components=2).fit_transform(data_train_scaled)\n",
        "plt.scatter(X_embedded[:,0], X_embedded[:,1], c=y_pred, cmap=\"coolwarm\", alpha=0.3, linewidth=0, s=80)"
      ],
      "execution_count": null,
      "outputs": []
    },
    {
      "cell_type": "code",
      "metadata": {
        "id": "JweRFreGhsAE",
        "colab_type": "code",
        "colab": {}
      },
      "source": [
        "y_pred = NN.predict(data_test_scaled)\n",
        "y_pred_class = np.where(y_pred>=0.5, 1, 0)\n",
        "print(classification_report(target_test, y_pred_class))"
      ],
      "execution_count": null,
      "outputs": []
    },
    {
      "cell_type": "code",
      "metadata": {
        "id": "AjCEPNchhr8a",
        "colab_type": "code",
        "colab": {}
      },
      "source": [
        "sns.heatmap(confusion_matrix(target_test, y_pred_class), annot=True, annot_kws={\"size\": 20}, cmap='Blues')"
      ],
      "execution_count": null,
      "outputs": []
    },
    {
      "cell_type": "markdown",
      "metadata": {
        "id": "dCyJ5hl01bMY",
        "colab_type": "text"
      },
      "source": [
        "**Projected Distribution Visualization**\n",
        "\n",
        "![alt text](https://i.imgur.com/BoxMIKn.png)\n",
        "\n",
        "**Confusion Matrix**\n",
        "\n",
        "![alt text](https://i.imgur.com/8eVnQ8X.png)"
      ]
    },
    {
      "cell_type": "markdown",
      "metadata": {
        "id": "TAeSfiq6uqOW",
        "colab_type": "text"
      },
      "source": [
        "### Phase 3: Notes\n",
        "\n",
        "Ensure that only training data is used for training the model and present your scores and results for the testing data.\n",
        "\n"
      ]
    },
    {
      "cell_type": "markdown",
      "metadata": {
        "id": "btaRcSHWyVo1",
        "colab_type": "text"
      },
      "source": [
        "### Evaluation\n",
        "\n",
        "The scores for each problem is allocated as follows:\n",
        "\n",
        "* P1: Completion of NN base class implementation - 3\n",
        "* P1: Description of Backpropagation algorithm - 1\n",
        "* P1: Successful run of Classification Tests (AND/XOR) - 3\n",
        "* P1: Observations and Inferences (Reporting) - 2\n",
        "* P1: Successful run of Regression Tests (Sine/Gaussian) - 3\n",
        "* P1: Observations and Inferences (Reporting) - 2\n",
        "* P2: Successful implementation of model improvement method:\n",
        "    * 3 methods - 9\n",
        "    * 5 methods - 9 + 1 bonus\n",
        "* P3: Successful implementation of Breast Cancer Dataset - 3\n",
        "* P3: Observations and Inferences (Reporting) - 2\n",
        "* P3: Accuracy for Breast Cancer test data:\n",
        "    * Accuracy < 90% (or not obtained) - 0\n",
        "    * Accuracy >=90%, < 95% - 1\n",
        "    * Accuracy >=95%, < 98% - 2\n",
        "    * Accuracy >=98% - 2 + 1 bonus\n",
        "\n",
        "The final score will be clipped to a maximum of 30\n",
        "\n",
        "\n"
      ]
    }
  ]
}